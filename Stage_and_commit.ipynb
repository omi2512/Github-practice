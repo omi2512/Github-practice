{
 "cells": [
  {
   "cell_type": "code",
   "execution_count": 1,
   "id": "35e3a016",
   "metadata": {},
   "outputs": [
    {
     "name": "stdout",
     "output_type": "stream",
     "text": [
      "Testing Stage and Commit\n"
     ]
    }
   ],
   "source": [
    "print('Testing Stage and Commit')"
   ]
  },
  {
   "cell_type": "code",
   "execution_count": 4,
   "id": "fdf0cf8d",
   "metadata": {},
   "outputs": [
    {
     "name": "stdout",
     "output_type": "stream",
     "text": [
      "Merging Branches\n"
     ]
    }
   ],
   "source": [
    "print('Merging Branches')"
   ]
  },
  {
   "cell_type": "code",
   "execution_count": 5,
   "id": "8715dd25",
   "metadata": {},
   "outputs": [
    {
     "name": "stdout",
     "output_type": "stream",
     "text": [
      "Pull Request\n"
     ]
    }
   ],
   "source": [
    "print('Pull Request')"
   ]
  }
 ],
 "metadata": {
  "kernelspec": {
   "display_name": "Python 3",
   "language": "python",
   "name": "python3"
  },
  "language_info": {
   "codemirror_mode": {
    "name": "ipython",
    "version": 3
   },
   "file_extension": ".py",
   "mimetype": "text/x-python",
   "name": "python",
   "nbconvert_exporter": "python",
   "pygments_lexer": "ipython3",
   "version": "3.11.9"
  }
 },
 "nbformat": 4,
 "nbformat_minor": 5
}
